{
  "nbformat": 4,
  "nbformat_minor": 0,
  "metadata": {
    "colab": {
      "provenance": []
    },
    "kernelspec": {
      "name": "python3",
      "display_name": "Python 3"
    },
    "language_info": {
      "name": "python"
    }
  },
  "cells": [
    {
      "cell_type": "code",
      "execution_count": 1,
      "metadata": {
        "id": "H8q1B_hEvvEO"
      },
      "outputs": [],
      "source": [
        "import pandas as pd\n",
        "import seaborn as sns\n",
        "\n",
        "df = sns.load_dataset('diamonds')\n"
      ]
    },
    {
      "cell_type": "code",
      "source": [
        "import pandas as pd\n",
        "import seaborn as sns\n",
        "import numpy as np\n",
        "from sklearn.model_selection import train_test_split\n",
        "import matplotlib.pyplot as plt\n",
        "\n",
        "df = sns.load_dataset('diamonds')\n",
        "\n",
        "df = df[(df[['x', 'y', 'z']] != 0).all(axis=1)]\n",
        "df_model = pd.get_dummies(df, columns=['cut', 'color', 'clarity'], drop_first=True)\n",
        "X = df_model.drop('price', axis=1)\n",
        "y = df_model['price']\n"
      ],
      "metadata": {
        "id": "4VjdTAPSv0zw"
      },
      "execution_count": 2,
      "outputs": []
    },
    {
      "cell_type": "code",
      "source": [
        "from sklearn.feature_selection import SelectKBest, f_regression\n",
        "\n",
        "selector = SelectKBest(score_func=f_regression, k=10)\n",
        "X_new = selector.fit_transform(X, y)\n",
        "\n",
        "mask = selector.get_support()\n",
        "selected_features = X.columns[mask]\n",
        "print(\"Variables seleccionadas:\")\n",
        "print(selected_features)\n"
      ],
      "metadata": {
        "colab": {
          "base_uri": "https://localhost:8080/"
        },
        "id": "7K_s9juIv9Av",
        "outputId": "a22c1487-f128-4223-c3af-2d43a59c1ab1"
      },
      "execution_count": 3,
      "outputs": [
        {
          "output_type": "stream",
          "name": "stdout",
          "text": [
            "Variables seleccionadas:\n",
            "Index(['carat', 'table', 'x', 'y', 'z', 'cut_Premium', 'color_E', 'color_I',\n",
            "       'clarity_VVS1', 'clarity_SI2'],\n",
            "      dtype='object')\n"
          ]
        }
      ]
    },
    {
      "cell_type": "code",
      "source": [
        "from sklearn.linear_model import LinearRegression\n",
        "from sklearn.metrics import mean_squared_error, r2_score\n",
        "X_selected = X[selected_features]\n",
        "\n",
        "X_train, X_test, y_train, y_test = train_test_split(X_selected, y, test_size=0.2, random_state=42)\n",
        "\n",
        "modelo = LinearRegression()\n",
        "modelo.fit(X_train, y_train)\n",
        "\n",
        "y_pred = modelo.predict(X_test)\n",
        "\n",
        "mse = mean_squared_error(y_test, y_pred)\n",
        "r2 = r2_score(y_test, y_pred)\n",
        "\n",
        "print(f\"Mean Squared Error (MSE): {mse:.2f}\")\n",
        "print(f\"R² Score: {r2:.4f}\")\n"
      ],
      "metadata": {
        "colab": {
          "base_uri": "https://localhost:8080/"
        },
        "id": "OtLXcXjMwDgf",
        "outputId": "015c2a7f-2cca-4cb2-9217-20a7ab431030"
      },
      "execution_count": 5,
      "outputs": [
        {
          "output_type": "stream",
          "name": "stdout",
          "text": [
            "Mean Squared Error (MSE): 2327767.24\n",
            "R² Score: 0.8548\n"
          ]
        }
      ]
    },
    {
      "cell_type": "markdown",
      "source": [
        "## Conclusiones\n",
        "\n",
        "Se entrenó un modelo de regresión lineal para predecir el precio de diamantes utilizando un conjunto reducido de 10 variables seleccionadas mediante el método `SelectKBest`. Entre las variables más influyentes se destacan `carat`, `x`, `y`, `z` y variables categóricas como `clarity_VVS1` y `color_E`.\n",
        "\n",
        "El modelo alcanzó un **R² de 0.8548**, lo que indica que explica un 85,5% de la variabilidad del precio. Esto sugiere una buena capacidad predictiva dentro del marco de una regresión lineal.\n",
        "\n",
        "El **MSE fue de 2.327.767**, valor razonable dada la presencia de outliers y la magnitud de los precios.\n",
        "\n",
        "Como trabajo futuro, podrían explorarse modelos más complejos como `Random Forest` o `XGBoost`, y aplicar técnicas de escalado, normalización y manejo avanzado de outliers para mejorar la performance.\n"
      ],
      "metadata": {
        "id": "bGscoojgwKBv"
      }
    },
    {
      "cell_type": "code",
      "source": [],
      "metadata": {
        "id": "ZFeU3bBowJzv"
      },
      "execution_count": null,
      "outputs": []
    }
  ]
}